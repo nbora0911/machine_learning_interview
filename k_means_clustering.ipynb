{
 "cells": [
  {
   "cell_type": "code",
   "execution_count": null,
   "metadata": {},
   "outputs": [],
   "source": [
    "# input data - array (n_samples, m_features) "
   ]
  },
  {
   "cell_type": "code",
   "execution_count": null,
   "metadata": {},
   "outputs": [],
   "source": [
    "import random\n",
    "\n",
    "def k_means(data, k):\n",
    "    \"\"\"\n",
    "    data: (n_samples, m_features) \n",
    "    k = int\n",
    "    clusters = (k, m_features)\n",
    "    \"\"\"\n",
    "\n",
    "    # initialize k cluster centroids - pick \n",
    "    # distance between each sample and each centroid\n",
    "    # assign label to each sample such that distance between centroid and sample is minimum\n",
    "    # calculate new centroids by taking it as a mean of data points in that new-centroid cluster\n",
    "\n",
    "    random.choice\n"
   ]
  }
 ],
 "metadata": {
  "kernelspec": {
   "display_name": "general-ml",
   "language": "python",
   "name": "python3"
  },
  "language_info": {
   "name": "python",
   "version": "3.8.5"
  }
 },
 "nbformat": 4,
 "nbformat_minor": 2
}
