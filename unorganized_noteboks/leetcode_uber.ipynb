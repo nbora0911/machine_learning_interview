{
 "cells": [
  {
   "cell_type": "code",
   "execution_count": 2,
   "metadata": {},
   "outputs": [],
   "source": [
    "# https://www.hackerrank.com/challenges/mini-max-sum/problem\n",
    "\n",
    "def min_max_sum(arr):\n",
    "    min_num = 0\n",
    "    max_num = 0\n",
    "    total_sum = 0\n",
    "    for num in arr:\n",
    "        min_num = min(min_num, num)\n",
    "        max_num = max(max_num, num)\n",
    "        total_sum += num\n",
    "    return total_sum-min_num, total_sum-max_num"
   ]
  },
  {
   "cell_type": "code",
   "execution_count": 3,
   "metadata": {},
   "outputs": [
    {
     "data": {
      "text/plain": [
       "(25, 16)"
      ]
     },
     "execution_count": 3,
     "metadata": {},
     "output_type": "execute_result"
    }
   ],
   "source": [
    "arr = [1, 3, 5, 7, 9]\n",
    "min_max_sum(arr)"
   ]
  },
  {
   "cell_type": "code",
   "execution_count": 2,
   "metadata": {},
   "outputs": [],
   "source": [
    "## construct a binary tree\n",
    "# value, left, right \n",
    "class BinaryTreeNode:\n",
    "    def __init__(self, value):\n",
    "        self.value = value\n",
    "        self.left = None\n",
    "        self.right = None\n",
    "\n",
    "root = BinaryTreeNode(1)\n",
    "root.left = BinaryTreeNode(2)\n",
    "root.right = BinaryTreeNode(3)\n",
    "root.left.left = BinaryTreeNode(4)\n",
    "root.left.right = BinaryTreeNode(5)\n",
    "root.right.left = BinaryTreeNode(6)\n",
    "root.right.right = BinaryTreeNode(7)"
   ]
  },
  {
   "cell_type": "code",
   "execution_count": 6,
   "metadata": {},
   "outputs": [
    {
     "name": "stdout",
     "output_type": "stream",
     "text": [
      "1\n",
      "2\n",
      "3\n",
      "4\n",
      "5\n",
      "6\n",
      "7\n"
     ]
    }
   ],
   "source": [
    "def level_order_traversal(root):\n",
    "    if root is None:\n",
    "        return\n",
    "    queue = [root]\n",
    "    while queue:\n",
    "        node = queue.pop(0)\n",
    "        print(node.value)\n",
    "        if node.left:\n",
    "            queue.append(node.left)\n",
    "        if node.right:\n",
    "            queue.append(node.right)\n",
    "\n",
    "level_order_traversal(root)"
   ]
  },
  {
   "cell_type": "code",
   "execution_count": 8,
   "metadata": {},
   "outputs": [
    {
     "name": "stdout",
     "output_type": "stream",
     "text": [
      "1\n",
      "2\n",
      "4\n",
      "5\n",
      "3\n",
      "6\n",
      "7\n",
      "None\n"
     ]
    }
   ],
   "source": [
    "def dfs(root):\n",
    "    if root is None:\n",
    "        return\n",
    "    print(root.value)\n",
    "    dfs(root.left)\n",
    "    dfs(root.right)\n",
    "\n",
    "print(dfs(root))"
   ]
  },
  {
   "cell_type": "code",
   "execution_count": 12,
   "metadata": {},
   "outputs": [
    {
     "name": "stdout",
     "output_type": "stream",
     "text": [
      "1\n",
      "2\n",
      "3\n",
      "4\n",
      "5\n",
      "6\n",
      "7\n"
     ]
    }
   ],
   "source": [
    "def bfs(root):\n",
    "    if root is None: \n",
    "        return\n",
    "    queue = [root]\n",
    "    while queue:\n",
    "        node = queue.pop(0)\n",
    "        print(node.value)\n",
    "        if node.left:\n",
    "            queue.append(node.left)\n",
    "        if node.right:\n",
    "            queue.append(node.right)\n",
    "    \n",
    "bfs(root)"
   ]
  },
  {
   "cell_type": "code",
   "execution_count": 13,
   "metadata": {},
   "outputs": [
    {
     "name": "stdout",
     "output_type": "stream",
     "text": [
      "4\n",
      "2\n",
      "5\n",
      "1\n",
      "6\n",
      "3\n",
      "7\n"
     ]
    }
   ],
   "source": [
    "# left root right\n",
    "def inorder(root):\n",
    "    if root is None:\n",
    "        return\n",
    "    inorder(root.left)\n",
    "    print(root.value)\n",
    "    inorder(root.right)\n",
    "\n",
    "inorder(root) \n"
   ]
  },
  {
   "cell_type": "code",
   "execution_count": 32,
   "metadata": {},
   "outputs": [
    {
     "name": "stdout",
     "output_type": "stream",
     "text": [
      "top\n",
      "after while current [1, 2, 4]\n",
      "result [4]\n",
      "----\n",
      "top\n",
      "while stack or current [1, 2]\n",
      "after while current [1, 2]\n",
      "result [4, 2]\n",
      "----\n",
      "top\n",
      "while stack or current [1]\n",
      "after while current [1, 5]\n",
      "result [4, 2, 5]\n",
      "----\n",
      "top\n",
      "while stack or current [1]\n",
      "after while current [1]\n",
      "result [4, 2, 5, 1]\n",
      "----\n",
      "top\n",
      "after while current [3, 6]\n",
      "result [4, 2, 5, 1, 6]\n",
      "----\n",
      "top\n",
      "while stack or current [3]\n",
      "after while current [3]\n",
      "result [4, 2, 5, 1, 6, 3]\n",
      "----\n",
      "top\n",
      "after while current [7]\n",
      "result [4, 2, 5, 1, 6, 3, 7]\n",
      "----\n"
     ]
    },
    {
     "data": {
      "text/plain": [
       "[4, 2, 5, 1, 6, 3, 7]"
      ]
     },
     "execution_count": 32,
     "metadata": {},
     "output_type": "execute_result"
    }
   ],
   "source": [
    "def inorder_no_recursion(root):\n",
    "    stack = []\n",
    "    current = root\n",
    "    result = []\n",
    "\n",
    "    while stack or current:\n",
    "        print(\"top\")\n",
    "        if stack:\n",
    "            s = [e.value for e in stack]\n",
    "            print(\"while stack or current\", s)\n",
    "        while current:\n",
    "            stack.append(current)\n",
    "            current = current.left\n",
    "        \n",
    "        print(\"after while current\", [e.value for e in stack])\n",
    "        current = stack.pop()\n",
    "        result.append(current.value)\n",
    "        current = current.right\n",
    "        print(\"result\", result)\n",
    "        print(\"----\")\n",
    "\n",
    "    return result\n",
    "    \n",
    "inorder_no_recursion(root)"
   ]
  },
  {
   "cell_type": "code",
   "execution_count": 4,
   "metadata": {},
   "outputs": [
    {
     "name": "stdout",
     "output_type": "stream",
     "text": [
      "2\n"
     ]
    }
   ],
   "source": [
    "# bus routes https://leetcode.com/problems/bus-routes/description/\n",
    "from collections import deque, defaultdict\n",
    "def numBusesToDestination(routes, source, target):\n",
    "    if source == target:\n",
    "        return 0\n",
    "    \n",
    "    # Map each stop to the list of bus routs that pass throug it\n",
    "    stop_to_buses = defaultdict(list)\n",
    "    for i, route in enumerate(routes):\n",
    "        for stop in route:\n",
    "            stop_to_buses[stop].append(i)\n",
    "    \n",
    "    # BFS initialization\n",
    "    queue = deque([(source, 0)]) # current_stopm buses_taken\n",
    "    visted_stops = set([source])\n",
    "    visted_buses = set()\n",
    "\n",
    "    while queue:\n",
    "        current_stop, buses_taken = queue.popleft()\n",
    "        for bus in stop_to_buses[current_stop]:\n",
    "            if bus in visted_buses:\n",
    "                continue\n",
    "            visted_buses.add(bus)\n",
    "            for stop in routes[bus]:\n",
    "                if stop == target:\n",
    "                    return buses_taken + 1\n",
    "                if stop not in visted_stops:\n",
    "                    visted_stops.add(stop)\n",
    "                    queue.append((stop, buses_taken + 1))\n",
    "    \n",
    "    return -1 \n",
    "\n",
    "\n",
    "routes = [[1, 2, 7], [3, 6, 7]]\n",
    "source = 1\n",
    "target = 6\n",
    "print(numBusesToDestination(routes, source, target))  # Output: 2\n"
   ]
  },
  {
   "cell_type": "code",
   "execution_count": 5,
   "metadata": {},
   "outputs": [
    {
     "name": "stdout",
     "output_type": "stream",
     "text": [
      "defaultdict(<class 'list'>, {1: [0], 2: [0], 7: [0, 1], 3: [1], 6: [1]})\n",
      "defaultdict(<class 'set'>, {0: {1}, 1: {0}})\n",
      "{0}\n",
      "top deque([(0, 1)])\n",
      "1\n",
      "top deque([(1, 2)])\n",
      "2\n"
     ]
    }
   ],
   "source": [
    "# route as nodes\n",
    "from collections import deque, defaultdict\n",
    "def numBusesToDestinationWRoutes(routes, source, target):\n",
    "    if source == target:\n",
    "        return 0\n",
    "    \n",
    "    # preprocess before creating graph\n",
    "    stop_to_routes = defaultdict(list)\n",
    "    for i, route in enumerate(routes):\n",
    "        for stop in route:\n",
    "            stop_to_routes[stop].append(i)\n",
    "    \n",
    "    print(stop_to_routes)\n",
    "    # create graph\n",
    "    route_graph = defaultdict(set)\n",
    "    for stop, buses in stop_to_routes.items():\n",
    "        for i in range(len(buses)):\n",
    "            for j in range(i+1, len(buses)):\n",
    "                route_graph[buses[i]].add(buses[j])\n",
    "                route_graph[buses[j]].add(buses[i])\n",
    "    print(route_graph)\n",
    "    # bfs on routes\n",
    "    visited_routes = set()\n",
    "    queue = deque()\n",
    "\n",
    "    for route in stop_to_routes[source]:\n",
    "        queue.append((route, 1))\n",
    "        visited_routes.add(route)\n",
    "\n",
    "    print(visited_routes)\n",
    "\n",
    "    target_routes = set(stop_to_routes[target])\n",
    "\n",
    "    while queue:\n",
    "        print(\"top\", queue)\n",
    "        current_route, buses_taken = queue.popleft()\n",
    "\n",
    "        if current_route in target_routes:\n",
    "            return buses_taken\n",
    "        \n",
    "        for neigbor in route_graph[current_route]:\n",
    "            print(neigbor)\n",
    "            if neigbor not in visited_routes:\n",
    "                visited_routes.add(neigbor)\n",
    "                queue.append((neigbor, buses_taken+1))\n",
    "        \n",
    "    return -1\n",
    "    \n",
    "\n",
    "routes = [[1, 2, 7], [3, 6, 7]]\n",
    "source = 1\n",
    "target = 6\n",
    "print(numBusesToDestinationWRoutes(routes, source, target))  # Output: 2\n"
   ]
  },
  {
   "cell_type": "code",
   "execution_count": null,
   "metadata": {},
   "outputs": [],
   "source": [
    "# connected components union find\n",
    "\n",
    "def countComponentsUnionFind(n, edges):\n",
    "    parent = list(range(n))\n",
    "    rank = [1]*n\n",
    "    print(\"parent\", parent)\n",
    "    print(\"rank\", rank)\n",
    "\n",
    "    def find(x):\n",
    "        if parent[x]!=x:\n",
    "            parent[x] = find(parent[x])\n",
    "        return parent[x]\n",
    "    \n",
    "    def union(x, y):\n",
    "        rootX = find(x)\n",
    "        rootY = find(y)\n",
    "        if rootX != rootY:\n",
    "            if rank[rootX] > rank[rootY]:\n",
    "                parent[rootY] = rootX\n",
    "            elif rank[rootX] < rank[rootY]:\n",
    "                parent[rootX] = rootY\n",
    "            else:\n",
    "                parent[rootY] = rootX\n",
    "                rank[rootX] += 1\n",
    "\n",
    "    for u, v in edges:\n",
    "        union(u,v)\n",
    "\n",
    "    return len(set(find(x)for x in range(n)))\n"
   ]
  },
  {
   "cell_type": "code",
   "execution_count": 20,
   "metadata": {},
   "outputs": [
    {
     "name": "stdout",
     "output_type": "stream",
     "text": [
      "parent [0, 1, 2, 3, 4]\n",
      "rank [1, 1, 1, 1, 1]\n",
      "-union-x- 0 1\n",
      "roots 0 1\n",
      "x=y [0, 0, 2, 3, 4]\n",
      "-union-x- 1 2\n",
      "-findx-\n",
      "x 1 parent 0\n",
      "-exit-find-x-\n",
      "roots 0 2\n",
      "x>y [0, 0, 0, 3, 4]\n",
      "-union-x- 3 4\n",
      "roots 3 4\n",
      "x=y [0, 0, 0, 3, 3]\n",
      "parent [0, 0, 0, 3, 3]\n",
      "rank [2, 1, 1, 2, 1]\n",
      "-findx-\n",
      "x 1 parent 0\n",
      "-exit-find-x-\n",
      "-findx-\n",
      "x 2 parent 0\n",
      "-exit-find-x-\n",
      "-findx-\n",
      "x 4 parent 3\n",
      "-exit-find-x-\n"
     ]
    },
    {
     "data": {
      "text/plain": [
       "2"
      ]
     },
     "execution_count": 20,
     "metadata": {},
     "output_type": "execute_result"
    }
   ],
   "source": [
    "countComponentsUnionFind(5, [[0,1],[1,2],[3,4]])"
   ]
  },
  {
   "cell_type": "code",
   "execution_count": 25,
   "metadata": {},
   "outputs": [
    {
     "name": "stdout",
     "output_type": "stream",
     "text": [
      "0 set() 0\n",
      "1 {0, 1, 2} 1\n",
      "2 {0, 1, 2} 1\n",
      "3 {0, 1, 2} 1\n",
      "4 {0, 1, 2, 3, 4} 2\n"
     ]
    },
    {
     "data": {
      "text/plain": [
       "2"
      ]
     },
     "execution_count": 25,
     "metadata": {},
     "output_type": "execute_result"
    }
   ],
   "source": [
    "def countComponentsDFS(n, edges):\n",
    "    # build graph - adjacency list\n",
    "    graph = defaultdict(list)\n",
    "    for u,v in edges:\n",
    "        graph[u].append(v)\n",
    "        graph[v].append(u)\n",
    "\n",
    "    visited = set()\n",
    "    components = 0 \n",
    "\n",
    "    def dfs(node):\n",
    "        for neighbor in graph[node]:\n",
    "            if neighbor not in visited:\n",
    "                visited.add(neighbor)\n",
    "                dfs(neighbor)\n",
    "    \n",
    "    for i in range(n):\n",
    "        print(i, visited, components)\n",
    "        if i not in visited:\n",
    "            components +=1\n",
    "            visited.add(i)\n",
    "            dfs(i)\n",
    "    return components\n",
    "\n",
    "countComponentsDFS(5, [[0,1],[1,2],[3,4]])"
   ]
  },
  {
   "cell_type": "code",
   "execution_count": 30,
   "metadata": {},
   "outputs": [
    {
     "data": {
      "text/plain": [
       "2"
      ]
     },
     "execution_count": 30,
     "metadata": {},
     "output_type": "execute_result"
    }
   ],
   "source": [
    "sum([0,2])"
   ]
  },
  {
   "cell_type": "code",
   "execution_count": 31,
   "metadata": {},
   "outputs": [],
   "source": [
    "#Quick Find\n",
    "# UnionFind Class\n",
    "class UnionFind:\n",
    "    def __init__(self, size):\n",
    "        self.root = [i for i in range(size)]\n",
    "    \n",
    "    def find(self, x):\n",
    "        return self.root[x]\n",
    "    \n",
    "    def union(self, x, y):\n",
    "        rootX = self.find(x)\n",
    "        rootY = self.find(y)\n",
    "        if rootX != rootY:\n",
    "            for i in range(len(self.root)):\n",
    "                if self.root[i] == rootY:\n",
    "                    self.root[i] = rootX\n",
    "    \n",
    "    def connected(self, x, y):\n",
    "        return self.find(x) == self.find(y)\n",
    "    \n",
    "# Test Case\n",
    "uf = UnionFind(10)\n",
    "# 1-2-3-45 6-7-8 9\n",
    "\n",
    "uf.union(1, 2)\n",
    "uf.union(3, 4)\n",
    "uf.union(4, 5)\n",
    "uf.union(6, 7)\n",
    "uf.union(7, 8)\n"
   ]
  },
  {
   "cell_type": "markdown",
   "metadata": {},
   "source": [
    "print(uf.connected(1,3))"
   ]
  },
  {
   "cell_type": "code",
   "execution_count": 32,
   "metadata": {},
   "outputs": [
    {
     "name": "stdout",
     "output_type": "stream",
     "text": [
      "False\n"
     ]
    }
   ],
   "source": [
    "print(uf.connected(1,3))"
   ]
  },
  {
   "cell_type": "code",
   "execution_count": 33,
   "metadata": {},
   "outputs": [],
   "source": [
    "uf.union(2,3)"
   ]
  },
  {
   "cell_type": "code",
   "execution_count": 36,
   "metadata": {},
   "outputs": [
    {
     "name": "stdout",
     "output_type": "stream",
     "text": [
      "True\n",
      "True\n",
      "False\n"
     ]
    }
   ],
   "source": [
    "print(uf.connected(1,3))\n",
    "print(uf.connected(6,8))\n",
    "print(uf.connected(9,8))\n"
   ]
  },
  {
   "cell_type": "code",
   "execution_count": 37,
   "metadata": {},
   "outputs": [
    {
     "name": "stdout",
     "output_type": "stream",
     "text": [
      "1\n",
      "1\n",
      "6\n",
      "9\n"
     ]
    }
   ],
   "source": [
    "print(uf.find(2))\n",
    "print(uf.find(4))\n",
    "print(uf.find(6))\n",
    "print(uf.find(9))"
   ]
  },
  {
   "cell_type": "code",
   "execution_count": 38,
   "metadata": {},
   "outputs": [],
   "source": [
    "uf.union(4,9)"
   ]
  },
  {
   "cell_type": "code",
   "execution_count": 39,
   "metadata": {},
   "outputs": [
    {
     "name": "stdout",
     "output_type": "stream",
     "text": [
      "1\n"
     ]
    }
   ],
   "source": [
    "print(uf.find(9))"
   ]
  },
  {
   "cell_type": "code",
   "execution_count": 40,
   "metadata": {},
   "outputs": [
    {
     "name": "stdout",
     "output_type": "stream",
     "text": [
      "None\n"
     ]
    }
   ],
   "source": [
    "print(uf.union(6,2))"
   ]
  },
  {
   "cell_type": "code",
   "execution_count": 41,
   "metadata": {},
   "outputs": [
    {
     "name": "stdout",
     "output_type": "stream",
     "text": [
      "6\n"
     ]
    }
   ],
   "source": [
    "print(uf.find(6))"
   ]
  },
  {
   "cell_type": "code",
   "execution_count": 42,
   "metadata": {},
   "outputs": [
    {
     "name": "stdout",
     "output_type": "stream",
     "text": [
      "6\n"
     ]
    }
   ],
   "source": [
    "print(uf.find(2))"
   ]
  },
  {
   "cell_type": "code",
   "execution_count": 43,
   "metadata": {},
   "outputs": [
    {
     "name": "stdout",
     "output_type": "stream",
     "text": [
      "True\n",
      "True\n",
      "False\n",
      "True\n"
     ]
    }
   ],
   "source": [
    "# QuickUnion\n",
    "class UnionFind:\n",
    "    def __init__(self, size):\n",
    "        self.root = [i for i in range(size)]\n",
    "    \n",
    "    def find(self, x):\n",
    "        while x != self.root[x]:\n",
    "            x = self.root[x]\n",
    "        return x\n",
    "    \n",
    "    def union(self, x, y):\n",
    "        rootX = self.find(x)\n",
    "        rootY = self.find(y)\n",
    "        if rootX != rootY:\n",
    "            self.root[rootY] = rootX\n",
    "    \n",
    "    def connected(self, x, y):\n",
    "        return self.find(x) == self.find(y)\n",
    "\n",
    "\n",
    "# Test Case\n",
    "uf = UnionFind(10)\n",
    "# 1-2-5-6-7 3-8-9 4\n",
    "uf.union(1, 2)\n",
    "uf.union(2, 5)\n",
    "uf.union(5, 6)\n",
    "uf.union(6, 7)\n",
    "uf.union(3, 8)\n",
    "uf.union(8, 9)\n",
    "print(uf.connected(1, 5))  # true\n",
    "print(uf.connected(5, 7))  # true\n",
    "print(uf.connected(4, 9))  # false\n",
    "# 1-2-5-6-7 3-8-9-4\n",
    "uf.union(9, 4)\n",
    "print(uf.connected(4, 9))  # true"
   ]
  },
  {
   "cell_type": "markdown",
   "metadata": {},
   "source": []
  },
  {
   "cell_type": "code",
   "execution_count": 44,
   "metadata": {},
   "outputs": [
    {
     "name": "stdout",
     "output_type": "stream",
     "text": [
      "True\n",
      "True\n",
      "False\n",
      "True\n"
     ]
    }
   ],
   "source": [
    "# UnionFind class\n",
    "class UnionFind:\n",
    "    def __init__(self, size):\n",
    "        self.root = [i for i in range(size)]  #this is to find parent of a subset\n",
    "        self.rank = [1]*size #this capture height of tree / subset\n",
    "    \n",
    "    def find(self, x):\n",
    "        while x != self.root[x]:\n",
    "            x = self.root[x]\n",
    "        return x\n",
    "    \n",
    "    def union(self, x, y):\n",
    "        rootX = self.root[x]\n",
    "        rootY = self.root[y]\n",
    "        if rootX != rootY:\n",
    "            if self.rank[rootX] > self.rank[rootY]:\n",
    "                self.root[rootY] = rootX\n",
    "            elif self.rank[rootX] < self.rank[rootY]:\n",
    "                self.root[rootX] = rootY\n",
    "            else:\n",
    "                self.root[rootY] = rootX\n",
    "                self.rank[rootX] += 1\n",
    "    \n",
    "    def connected(self, x, y):\n",
    "        return self.find(x) == self.find(y)\n",
    "    \n",
    "\n",
    "uf = UnionFind(10)\n",
    "# 1-2-5-6-7 3-8-9 4\n",
    "uf.union(1, 2)\n",
    "uf.union(2, 5)\n",
    "uf.union(5, 6)\n",
    "uf.union(6, 7)\n",
    "uf.union(3, 8)\n",
    "uf.union(8, 9)\n",
    "print(uf.connected(1, 5))  # true\n",
    "print(uf.connected(5, 7))  # true\n",
    "print(uf.connected(4, 9))  # false\n",
    "# 1-2-5-6-7 3-8-9-4\n",
    "uf.union(9, 4)\n",
    "print(uf.connected(4, 9))  # true"
   ]
  },
  {
   "cell_type": "code",
   "execution_count": 49,
   "metadata": {},
   "outputs": [
    {
     "data": {
      "text/plain": [
       "3"
      ]
     },
     "execution_count": 49,
     "metadata": {},
     "output_type": "execute_result"
    }
   ],
   "source": [
    "uf.find(4)"
   ]
  },
  {
   "cell_type": "code",
   "execution_count": 50,
   "metadata": {},
   "outputs": [],
   "source": [
    "uf.union(5, 8)"
   ]
  },
  {
   "cell_type": "code",
   "execution_count": 51,
   "metadata": {},
   "outputs": [
    {
     "data": {
      "text/plain": [
       "(1, 1)"
      ]
     },
     "execution_count": 51,
     "metadata": {},
     "output_type": "execute_result"
    }
   ],
   "source": [
    "uf.find(5), uf.find(8)"
   ]
  },
  {
   "cell_type": "code",
   "execution_count": 52,
   "metadata": {},
   "outputs": [],
   "source": [
    "class UnionFind:\n",
    "    def __init__(self, size):\n",
    "        self.root = [i for i in range(size)]\n",
    "    \n",
    "    def find(self, x):\n",
    "        if x == self.root[x]:\n",
    "            return x\n",
    "        print(\"rootx\", x, self.root[x])\n",
    "        self.root[x] = self.find(self.root[x])\n",
    "        return self.root[x]\n",
    "    \n",
    "    def union(self, x, y):\n",
    "        rootX = self.find(x)\n",
    "        rootY = self.find(y)\n",
    "        if rootX != rootY:\n",
    "            self.root[rootY] = rootX\n",
    "\n",
    "    def connected(self, x, y):\n",
    "        return self.find(x) == self.find(y)\n",
    "\n",
    "\n",
    "# Test Case\n",
    "uf = UnionFind(10)\n"
   ]
  },
  {
   "cell_type": "code",
   "execution_count": 55,
   "metadata": {},
   "outputs": [
    {
     "data": {
      "text/plain": [
       "3"
      ]
     },
     "execution_count": 55,
     "metadata": {},
     "output_type": "execute_result"
    }
   ],
   "source": [
    "uf.find(3)"
   ]
  },
  {
   "cell_type": "code",
   "execution_count": 56,
   "metadata": {},
   "outputs": [],
   "source": [
    "uf.union(1, 2)"
   ]
  },
  {
   "cell_type": "code",
   "execution_count": 57,
   "metadata": {},
   "outputs": [
    {
     "name": "stdout",
     "output_type": "stream",
     "text": [
      "rootx 2 1\n"
     ]
    },
    {
     "data": {
      "text/plain": [
       "1"
      ]
     },
     "execution_count": 57,
     "metadata": {},
     "output_type": "execute_result"
    }
   ],
   "source": [
    "uf.find(2)"
   ]
  },
  {
   "cell_type": "code",
   "execution_count": 58,
   "metadata": {},
   "outputs": [
    {
     "data": {
      "text/plain": [
       "3"
      ]
     },
     "execution_count": 58,
     "metadata": {},
     "output_type": "execute_result"
    }
   ],
   "source": [
    "uf.find(3)"
   ]
  },
  {
   "cell_type": "code",
   "execution_count": 59,
   "metadata": {},
   "outputs": [
    {
     "name": "stdout",
     "output_type": "stream",
     "text": [
      "rootx 2 1\n"
     ]
    }
   ],
   "source": [
    "uf.union(2,3)"
   ]
  },
  {
   "cell_type": "code",
   "execution_count": 60,
   "metadata": {},
   "outputs": [
    {
     "name": "stdout",
     "output_type": "stream",
     "text": [
      "rootx 3 1\n"
     ]
    },
    {
     "data": {
      "text/plain": [
       "1"
      ]
     },
     "execution_count": 60,
     "metadata": {},
     "output_type": "execute_result"
    }
   ],
   "source": [
    "uf.find(3)"
   ]
  },
  {
   "cell_type": "code",
   "execution_count": 61,
   "metadata": {},
   "outputs": [
    {
     "name": "stdout",
     "output_type": "stream",
     "text": [
      "rootx 3 1\n",
      "rootx 4 1\n"
     ]
    }
   ],
   "source": [
    "uf.union(3,4)\n",
    "uf.union(4,5)"
   ]
  },
  {
   "cell_type": "code",
   "execution_count": null,
   "metadata": {},
   "outputs": [],
   "source": [
    "class Solution:\n",
    "    def calcEquation(self, equations: List[List[str]], values: List[float], queries: List[List[str]]) -> List[float]:\n",
    "\n",
    "        graph = defaultdict(defaultdict)\n",
    "\n",
    "        def backtrack_evaluate(curr_node, target_node, acc_product, visited):\n",
    "            visited.add(curr_node)\n",
    "            ret = -1.0\n",
    "            neighbors = graph[curr_node]\n",
    "            if target_node in neighbors:\n",
    "                ret = acc_product * neighbors[target_node]\n",
    "            else:\n",
    "                for neighbor, value in neighbors.items():\n",
    "                    if neighbor in visited:\n",
    "                        continue\n",
    "                    ret = backtrack_evaluate(\n",
    "                        neighbor, target_node, acc_product * value, visited)\n",
    "                    if ret != -1.0:\n",
    "                        break\n",
    "            visited.remove(curr_node)\n",
    "            return ret\n",
    "\n",
    "        # Step 1). build the graph from the equations\n",
    "        for (dividend, divisor), value in zip(equations, values):\n",
    "            # add nodes and two edges into the graph\n",
    "            graph[dividend][divisor] = value\n",
    "            graph[divisor][dividend] = 1 / value\n",
    "\n",
    "        # Step 2). Evaluate each query via backtracking (DFS)\n",
    "        #  by verifying if there exists a path from dividend to divisor\n",
    "        results = []\n",
    "        for dividend, divisor in queries:\n",
    "            if dividend not in graph or divisor not in graph:\n",
    "                # case 1): either node does not exist\n",
    "                ret = -1.0\n",
    "            elif dividend == divisor:\n",
    "                # case 2): origin and destination are the same node\n",
    "                ret = 1.0\n",
    "            else:\n",
    "                visited = set()\n",
    "                ret = backtrack_evaluate(dividend, divisor, 1, visited)\n",
    "            results.append(ret)\n",
    "\n",
    "        return results"
   ]
  },
  {
   "cell_type": "code",
   "execution_count": null,
   "metadata": {},
   "outputs": [],
   "source": [
    "class Solution:\n",
    "    def alienOrder(self, words: List[str]) -> str:\n",
    "\n",
    "        # Step 0: Put all unique letters into the adj list.\n",
    "        reverse_adj_list = {c : [] for word in words for c in word}\n",
    "\n",
    "        # Step 1: Find all edges and put them in reverse_adj_list.\n",
    "        for first_word, second_word in zip(words, words[1:]):\n",
    "            for c, d in zip(first_word, second_word):\n",
    "                if c != d: \n",
    "                    reverse_adj_list[d].append(c)\n",
    "                    break\n",
    "            else: # Check that second word isn't a prefix of first word.\n",
    "                if len(second_word) < len(first_word): \n",
    "                    return \"\"\n",
    "\n",
    "        # Step 2: Depth-first search.\n",
    "        seen = {} # False = grey, True = black.\n",
    "        output = []\n",
    "        def visit(node):  # Return True iff there are no cycles.\n",
    "            if node in seen:\n",
    "                return seen[node] # If this node was grey (False), a cycle was detected.\n",
    "            seen[node] = False # Mark node as grey.\n",
    "            for next_node in reverse_adj_list[node]:\n",
    "                result = visit(next_node)\n",
    "                if not result: \n",
    "                    return False # Cycle was detected lower down.\n",
    "            seen[node] = True # Mark node as black.\n",
    "            output.append(node)\n",
    "            return True\n",
    "\n",
    "        if not all(visit(node) for node in reverse_adj_list):\n",
    "            return \"\"\n",
    "\n",
    "        return \"\".join(output)"
   ]
  },
  {
   "cell_type": "code",
   "execution_count": 63,
   "metadata": {},
   "outputs": [
    {
     "data": {
      "text/plain": [
       "2"
      ]
     },
     "execution_count": 63,
     "metadata": {},
     "output_type": "execute_result"
    }
   ],
   "source": [
    "5%3"
   ]
  },
  {
   "cell_type": "code",
   "execution_count": 68,
   "metadata": {},
   "outputs": [
    {
     "name": "stdout",
     "output_type": "stream",
     "text": [
      "top bctrk 0 []\n",
      "current_combination 2 a\n",
      "top bctrk 1 ['a']\n",
      "current_combination 3 d\n",
      "top bctrk 2 ['a', 'd']\n",
      "result ['a', 'd']\n",
      "current combination pop d\n",
      "current_combination 3 e\n",
      "top bctrk 2 ['a', 'e']\n",
      "result ['a', 'e']\n",
      "current combination pop e\n",
      "current_combination 3 f\n",
      "top bctrk 2 ['a', 'f']\n",
      "result ['a', 'f']\n",
      "current combination pop f\n",
      "current combination pop a\n",
      "current_combination 2 b\n",
      "top bctrk 1 ['b']\n",
      "current_combination 3 d\n",
      "top bctrk 2 ['b', 'd']\n",
      "result ['b', 'd']\n",
      "current combination pop d\n",
      "current_combination 3 e\n",
      "top bctrk 2 ['b', 'e']\n",
      "result ['b', 'e']\n",
      "current combination pop e\n",
      "current_combination 3 f\n",
      "top bctrk 2 ['b', 'f']\n",
      "result ['b', 'f']\n",
      "current combination pop f\n",
      "current combination pop b\n",
      "current_combination 2 c\n",
      "top bctrk 1 ['c']\n",
      "current_combination 3 d\n",
      "top bctrk 2 ['c', 'd']\n",
      "result ['c', 'd']\n",
      "current combination pop d\n",
      "current_combination 3 e\n",
      "top bctrk 2 ['c', 'e']\n",
      "result ['c', 'e']\n",
      "current combination pop e\n",
      "current_combination 3 f\n",
      "top bctrk 2 ['c', 'f']\n",
      "result ['c', 'f']\n",
      "current combination pop f\n",
      "current combination pop c\n",
      "['ad', 'ae', 'af', 'bd', 'be', 'bf', 'cd', 'ce', 'cf']\n",
      "[]\n",
      "top bctrk 0 []\n",
      "current_combination 2 a\n",
      "top bctrk 1 ['a']\n",
      "result ['a']\n",
      "current combination pop a\n",
      "current_combination 2 b\n",
      "top bctrk 1 ['b']\n",
      "result ['b']\n",
      "current combination pop b\n",
      "current_combination 2 c\n",
      "top bctrk 1 ['c']\n",
      "result ['c']\n",
      "current combination pop c\n",
      "['a', 'b', 'c']\n"
     ]
    }
   ],
   "source": [
    "def letterCombinations(digits):\n",
    "    # Base case: if digits are empty, return an empty list\n",
    "    if not digits:\n",
    "        return []\n",
    "    \n",
    "    # Mapping of digits to letters as per a telephone keypad\n",
    "    phone_map = {\n",
    "        \"2\": \"abc\",\n",
    "        \"3\": \"def\",\n",
    "        \"4\": \"ghi\",\n",
    "        \"5\": \"jkl\",\n",
    "        \"6\": \"mno\",\n",
    "        \"7\": \"pqrs\",\n",
    "        \"8\": \"tuv\",\n",
    "        \"9\": \"wxyz\"\n",
    "    }\n",
    "    \n",
    "    # Result list to store all combinations\n",
    "    result = []\n",
    "    \n",
    "    # Helper function for backtracking\n",
    "    def backtrack(index, current_combination):\n",
    "        # If the current combination has the same length as the input digits, add to result\n",
    "        print(\"top bctrk\", index, current_combination)\n",
    "        if index == len(digits):\n",
    "            print(\"result\", current_combination)\n",
    "            result.append(\"\".join(current_combination))\n",
    "            return\n",
    "        \n",
    "        # Get the letters for the current digit\n",
    "        current_digit = digits[index]\n",
    "        for letter in phone_map[current_digit]:\n",
    "            # Add the letter to the current combination\n",
    "            current_combination.append(letter)\n",
    "            print(\"current_combination\", current_digit, letter)\n",
    "            # Recurse to the next digit\n",
    "            backtrack(index + 1, current_combination)\n",
    "            # Remove the last letter (backtrack)\n",
    "            print(\"current combination pop\", current_combination[-1])\n",
    "            current_combination.pop()\n",
    "    \n",
    "    # Start backtracking from the first digit\n",
    "    backtrack(0, [])\n",
    "    return result\n",
    "\n",
    "# Example Usage\n",
    "print(letterCombinations(\"23\"))  # Output: [\"ad\", \"ae\", \"af\", \"bd\", \"be\", \"bf\", \"cd\", \"ce\", \"cf\"]\n",
    "print(letterCombinations(\"\"))    # Output: []\n",
    "print(letterCombinations(\"2\"))   # Output: [\"a\", \"b\", \"c\"]\n"
   ]
  },
  {
   "cell_type": "code",
   "execution_count": 90,
   "metadata": {},
   "outputs": [],
   "source": [
    "from typing import List\n",
    "def subarraySum( nums: List[int], k: int) -> int:\n",
    "        count = 0\n",
    "        rem_k = {0:1}\n",
    "        prefix_sum = 0\n",
    "        for num in nums:\n",
    "            print(num, rem_k)\n",
    "            prefix_sum += num\n",
    "            \n",
    "            mod = prefix_sum - k\n",
    "            if mod in rem_k:\n",
    "                count = count + rem_k[mod]\n",
    "                print(\"update count\", num, count)\n",
    "            \n",
    "            if prefix_sum not in rem_k:\n",
    "                rem_k[prefix_sum] = 1\n",
    "            else:\n",
    "                rem_k[prefix_sum] = rem_k[prefix_sum] + 1\n",
    "\n",
    "        return count"
   ]
  },
  {
   "cell_type": "code",
   "execution_count": 91,
   "metadata": {},
   "outputs": [
    {
     "name": "stdout",
     "output_type": "stream",
     "text": [
      "1 {0: 1}\n",
      "2 {0: 1, 1: 1}\n",
      "update count 2 1\n",
      "1 {0: 1, 1: 1, 3: 1}\n",
      "update count 1 2\n",
      "2 {0: 1, 1: 1, 3: 1, 4: 1}\n",
      "update count 2 3\n",
      "1 {0: 1, 1: 1, 3: 1, 4: 1, 6: 1}\n",
      "update count 1 4\n"
     ]
    },
    {
     "data": {
      "text/plain": [
       "4"
      ]
     },
     "execution_count": 91,
     "metadata": {},
     "output_type": "execute_result"
    }
   ],
   "source": [
    "subarraySum([1,2,1,2,1], 3)"
   ]
  },
  {
   "cell_type": "code",
   "execution_count": 84,
   "metadata": {},
   "outputs": [],
   "source": [
    "def subarraySum(nums: List[int], k: int) -> int:\n",
    "        result = 0 \n",
    "        prefix_sum = 0\n",
    "        d = {0 : 1}\n",
    "        for num in nums:\n",
    "            print(num, d)\n",
    "            prefix_sum = prefix_sum + num\n",
    "            if prefix_sum - k in d:\n",
    "                result = result + d[prefix_sum - k]\n",
    "                print(\"update count\", num, result)\n",
    "            if prefix_sum not in d:\n",
    "                d[prefix_sum] = 1\n",
    "            else:\n",
    "                d[prefix_sum] = d[prefix_sum] + 1\n",
    "            \n",
    "        return result"
   ]
  },
  {
   "cell_type": "code",
   "execution_count": 85,
   "metadata": {},
   "outputs": [
    {
     "name": "stdout",
     "output_type": "stream",
     "text": [
      "1 {0: 1}\n",
      "2 {0: 1, 1: 1}\n",
      "update count 2 1\n",
      "1 {0: 1, 1: 1, 3: 1}\n",
      "update count 1 2\n",
      "2 {0: 1, 1: 1, 3: 1, 4: 1}\n",
      "update count 2 3\n",
      "1 {0: 1, 1: 1, 3: 1, 4: 1, 6: 1}\n",
      "update count 1 4\n"
     ]
    },
    {
     "data": {
      "text/plain": [
       "4"
      ]
     },
     "execution_count": 85,
     "metadata": {},
     "output_type": "execute_result"
    }
   ],
   "source": [
    "subarraySum([1,2,1,2,1], 3)"
   ]
  },
  {
   "cell_type": "code",
   "execution_count": 92,
   "metadata": {},
   "outputs": [
    {
     "name": "stdout",
     "output_type": "stream",
     "text": [
      "5\n",
      "3\n",
      "2\n"
     ]
    }
   ],
   "source": [
    "from heapq import heappop, heappush\n",
    "from typing import List\n",
    "\n",
    "def minimumTime(moveTime: List[List[int]]) -> int:\n",
    "    n, m = len(moveTime), len(moveTime[0])\n",
    "    directions = [(0, 1), (0, -1), (1, 0), (-1, 0)]\n",
    "    \n",
    "    # Priority queue: (time, x, y)\n",
    "    pq = [(0, 0, 0)]\n",
    "    visited = [[float('inf')] * m for _ in range(n)]\n",
    "    visited[0][0] = 0  # Starting point\n",
    "    \n",
    "    while pq:\n",
    "        time, x, y = heappop(pq)\n",
    "        \n",
    "        # If we reach the destination\n",
    "        if (x, y) == (n-1, m-1):\n",
    "            return time\n",
    "        \n",
    "        for dx, dy in directions:\n",
    "            nx, ny = x + dx, y + dy\n",
    "            \n",
    "            # Check bounds\n",
    "            if 0 <= nx < n and 0 <= ny < m:\n",
    "                wait_time = max(0, moveTime[nx][ny] - time - 1)\n",
    "                new_time = time + 1 + wait_time\n",
    "                \n",
    "                # Relaxation step\n",
    "                if new_time < visited[nx][ny]:\n",
    "                    visited[nx][ny] = new_time\n",
    "                    heappush(pq, (new_time, nx, ny))\n",
    "    \n",
    "    return -1  # This should never happen\n",
    "\n",
    "# Example Usage\n",
    "moveTime1 = [[0, 4], [4, 4]]\n",
    "print(minimumTime(moveTime1))  # Output: 6\n",
    "\n",
    "moveTime2 = [[0, 0, 0], [0, 0, 0]]\n",
    "print(minimumTime(moveTime2))  # Output: 3\n",
    "\n",
    "moveTime3 = [[0, 1], [1, 2]]\n",
    "print(minimumTime(moveTime3))  # Output: 3\n"
   ]
  },
  {
   "cell_type": "code",
   "execution_count": 106,
   "metadata": {},
   "outputs": [],
   "source": [
    "import heapq\n",
    "def minTimeToReach(moveTime: List[List[int]]):\n",
    "    \"\"\"\n",
    "    Calculate the minimum time required to reach the bottom-right corner of a grid.\n",
    "    The function uses Dijkstra's algorithm with a priority queue to find the shortest path\n",
    "    from the top-left corner to the bottom-right corner of a grid, where each cell in the grid\n",
    "    has a specific move time.\n",
    "    Args:\n",
    "        moveTime (List[List[int]]): A 2D list representing the move time for each cell in the grid.\n",
    "    Returns:\n",
    "        int: The minimum time required to reach the bottom-right corner of the grid. \n",
    "             Returns -1 if it is not possible to reach the bottom-right corner.\n",
    "    \"\"\"\n",
    "    numRows = len(moveTime)\n",
    "    numCols = len(moveTime[0])\n",
    "    # priority queue to store (current_time, x, y)\n",
    "    minHeap = [(0,0,0)]\n",
    "    arrivalTime = [[float('inf')]*numCols for _ in range(numRows)]\n",
    "    arrivalTime[0][0] = 0\n",
    "    directions = [(1,0), (-1,0), (0,1), (0, -1)]\n",
    "    while minHeap:\n",
    "        current_time, x, y = heapq.heappop(minHeap)\n",
    "        print(\"top\", current_time, x, y)\n",
    "        if (x, y) == (numRows - 1, numCols - 1):\n",
    "            return current_time\n",
    "        # explore adjacent rooms\n",
    "        for dx, dy in directions:\n",
    "            newX, newY = x + dx, y + dy\n",
    "            if 0 <= newX < numRows and 0 <= newY < numCols:\n",
    "                waitTime = max(moveTime[newX][newY] - current_time, 0)\n",
    "                newArrivalTime = current_time + 1 + waitTime\n",
    "\n",
    "                if newArrivalTime < arrivalTime[newX][newY]:\n",
    "                    arrivalTime[newX][newY] = newArrivalTime\n",
    "                    heapq.heappush(minHeap, (newArrivalTime, newX, newY))\n",
    "                    print(minHeap)\n",
    "        \n",
    "    return -1 "
   ]
  },
  {
   "cell_type": "code",
   "execution_count": 107,
   "metadata": {},
   "outputs": [
    {
     "name": "stdout",
     "output_type": "stream",
     "text": [
      "top 0 0 0\n",
      "[(5, 1, 0)]\n",
      "[(5, 0, 1), (5, 1, 0)]\n",
      "top 5 0 1\n",
      "[(5, 1, 0), (6, 1, 1)]\n",
      "top 5 1 0\n",
      "top 6 1 1\n",
      "6\n"
     ]
    }
   ],
   "source": [
    "# Example Usage\n",
    "moveTime1 = [[0, 4], [4, 4]]\n",
    "print(minTimeToReach(moveTime1))  # Output: 6\n",
    "\n",
    "# moveTime2 = [[0, 0, 0], [0, 0, 0]]\n",
    "# print(minimumTime(moveTime2))  # Output: 3\n",
    "\n",
    "# moveTime3 = [[0, 1], [1, 2]]\n",
    "# print(minimumTime(moveTime3))  # Output: 3\n"
   ]
  },
  {
   "cell_type": "code",
   "execution_count": 101,
   "metadata": {},
   "outputs": [
    {
     "name": "stdout",
     "output_type": "stream",
     "text": [
      "[(0, 0, 0)]\n",
      "top 0 0 0\n",
      "[(1, 0, 1), (1, 1, 0)]\n",
      "top 1 0 1\n",
      "[(1, 1, 0), (2, 1, 1), (2, 0, 2)]\n",
      "top 1 1 0\n",
      "[(2, 0, 2), (2, 1, 1)]\n",
      "top 2 0 2\n",
      "[(2, 1, 1), (3, 1, 2)]\n",
      "top 2 1 1\n",
      "[(3, 1, 2)]\n",
      "top 3 1 2\n",
      "3\n"
     ]
    }
   ],
   "source": [
    "moveTime2 = [[0, 0, 0], [0, 0, 0]]\n",
    "print(minTimeToReach(moveTime2))  # Output: 3"
   ]
  },
  {
   "cell_type": "code",
   "execution_count": 110,
   "metadata": {},
   "outputs": [
    {
     "data": {
      "text/plain": [
       "1"
      ]
     },
     "execution_count": 110,
     "metadata": {},
     "output_type": "execute_result"
    }
   ],
   "source": [
    "3%2b"
   ]
  },
  {
   "cell_type": "code",
   "execution_count": null,
   "metadata": {},
   "outputs": [],
   "source": [
    "<> [ ] \" { } \\"
   ]
  },
  {
   "cell_type": "markdown",
   "metadata": {},
   "source": [
    "Enabled automated model refits using Argo Workflows, saving $1M+ annually and impacting 1.8M+ customers by reducing refit time\n",
    "from months to days. Developed a one-click model refit pipeline to execute data pulls, model training, validation, comparison, and\n",
    "generate visualizations for go-no-go decisions. The first refit model improved model performance by 6%. Contributed to the\n",
    "production data pull codebase for feature generation; Collaborated cross-functionally with model validators, developers, and\n",
    "software engineers to align validation metrics, feature generation code, and integrate production features with the refit pipeline,\n",
    "resulting in streamlined operations and increased efficiency.\n",
    "● Developed and implemented a comprehensive model monitoring plan, conducting monthly assessments to ensure stability, validity,\n",
    "and reliability. Reduced variable level monitoring (VLM) review time from 8 hours to 1 hour for a model with 100+ features. Utilized\n",
    "advanced unsupervised clustering methods to identify trends and group similarly trending features, swiftly identifying and addressing\n",
    "root causes of model drift. This scalable solution extended across 50+ models, saving 1400+ person-hours enhancing operational\n",
    "efficiency, and earning recognition with the 'Impact Award' at the company hackathon.\n",
    "● Built a gradient boosting classifier model leveraging 1.8M customer records with 100+ features, resulting in identifying high-revenue\n",
    "customers and generating $10M in revenue. Architected and implemented a scalable PySpark data pipeline processing millions of\n",
    "rows; utilized a config file-based approach for processing steps akin to a DAG, and implemented unit tests to ensure reliability; built\n",
    "submodels to identify ideal model design; wrote technical documentation detailing methodology, results, and recommendations;\n",
    "presented findings to model validators; model to scores 5000 customers daily\n",
    "● Led 12 associates and executed a hackathon to create space for innovation for 250 associates, gained 50+% participation. Built\n",
    "consensus among 9 data science teams and their tech partners; secured buy-in from senior leaders by aligning goals and addressing\n",
    "their concerns. Facilitated problem-framing sessions across 100+ associates, identified common pain points, and translated them\n",
    "into 30 hackathon projects aimed to automate, alleviate, and accelerate modeling work. Identified six scalable automation projects\n",
    "to free up space to build a new model worth multi-million dollar revenue\n",
    "● Facilitated over 60 community learning sessions spanning two years, involving 15+ presenters from both tech and data science\n",
    "teams; upskilled the entire team in Python programming and coding methodologies; wrote data science blog"
   ]
  }
 ],
 "metadata": {
  "kernelspec": {
   "display_name": "general-ml",
   "language": "python",
   "name": "python3"
  },
  "language_info": {
   "codemirror_mode": {
    "name": "ipython",
    "version": 3
   },
   "file_extension": ".py",
   "mimetype": "text/x-python",
   "name": "python",
   "nbconvert_exporter": "python",
   "pygments_lexer": "ipython3",
   "version": "3.8.5"
  },
  "orig_nbformat": 4
 },
 "nbformat": 4,
 "nbformat_minor": 2
}
